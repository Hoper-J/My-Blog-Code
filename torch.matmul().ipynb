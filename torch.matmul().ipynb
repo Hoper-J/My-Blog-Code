{
 "cells": [
  {
   "cell_type": "code",
   "execution_count": 1,
   "metadata": {},
   "outputs": [],
   "source": [
    "import torch\n",
    "\n",
    "# 固定 torch 的随机数种子，以便重现结果\n",
    "torch.manual_seed(0)\n",
    "\n",
    "# 打印信息\n",
    "def print_info(A, B):\n",
    "    print(f\"A: {A}\\nB: {B}\")\n",
    "    print(f\"A 的维度: {A.dim()},\\t B 的维度: {B.dim()}\")\n",
    "    print(f\"A 的元素总数: {A.numel()},\\t B 的元素总数: {B.numel()}\")\n",
    "    print(f\"torch.matmul(A, B) = {torch.matmul(A, B)}\")\n",
    "    print(f\"torch.matmul(A, B).size() = {torch.matmul(A, B).size()}\")\n",
    "    "
   ]
  },
  {
   "cell_type": "code",
   "execution_count": 2,
   "metadata": {},
   "outputs": [
    {
     "name": "stdout",
     "output_type": "stream",
     "text": [
      "A: tensor([4, 4])\n",
      "B: tensor([3, 0])\n",
      "A 的维度: 1,\t B 的维度: 1\n",
      "A 的元素总数: 2,\t B 的元素总数: 2\n",
      "torch.matmul(A, B) = 12\n",
      "torch.matmul(A, B).size() = torch.Size([])\n"
     ]
    }
   ],
   "source": [
    "# input_d = other_d = 1（两个 tensor 皆为 1 维）\n",
    "A = torch.randint(0, 5, size=(2,))\n",
    "B = torch.randint(0, 5, size=(2,))\n",
    "\n",
    "print_info(A, B)"
   ]
  },
  {
   "cell_type": "code",
   "execution_count": 3,
   "metadata": {},
   "outputs": [
    {
     "name": "stdout",
     "output_type": "stream",
     "text": [
      "A: tensor([[3],\n",
      "        [4]])\n",
      "B: tensor([[2, 3]])\n",
      "A 的维度: 2,\t B 的维度: 2\n",
      "A 的元素总数: 2,\t B 的元素总数: 2\n",
      "torch.matmul(A, B) = tensor([[ 6,  9],\n",
      "        [ 8, 12]])\n",
      "torch.matmul(A, B).size() = torch.Size([2, 2])\n"
     ]
    }
   ],
   "source": [
    "# input_d = other_d = 2 （两个 tensor 皆为 2 维）\n",
    "A = torch.randint(0, 5, size=(2, 1))\n",
    "B = torch.randint(0, 5, size=(1, 2))\n",
    "\n",
    "print_info(A, B)"
   ]
  },
  {
   "cell_type": "code",
   "execution_count": 4,
   "metadata": {},
   "outputs": [
    {
     "name": "stdout",
     "output_type": "stream",
     "text": [
      "A: tensor([2, 3])\n",
      "B: tensor([[1, 1],\n",
      "        [1, 4]])\n",
      "A 的维度: 1,\t B 的维度: 2\n",
      "A 的元素总数: 2,\t B 的元素总数: 4\n",
      "torch.matmul(A, B) = tensor([ 5, 14])\n",
      "torch.matmul(A, B).size() = torch.Size([2])\n"
     ]
    }
   ],
   "source": [
    "# input_d = 1, other_d = 2\n",
    "A = torch.randint(0, 5, size=(2, ))\n",
    "B = torch.randint(0, 5, size=(2, 2))\n",
    "\n",
    "print_info(A, B)\n"
   ]
  },
  {
   "cell_type": "code",
   "execution_count": 5,
   "metadata": {},
   "outputs": [
    {
     "name": "stdout",
     "output_type": "stream",
     "text": [
      "A: tensor([[1, 1],\n",
      "        [1, 4]])\n",
      "B: tensor([2, 3])\n",
      "A 的维度: 2,\t B 的维度: 1\n",
      "A 的元素总数: 4,\t B 的元素总数: 2\n",
      "torch.matmul(A, B) = tensor([ 5, 14])\n",
      "torch.matmul(A, B).size() = torch.Size([2])\n"
     ]
    }
   ],
   "source": [
    "# input_d = 2, other_d = 1\n",
    "# 这里使用上一次的矩阵和向量，方便对照\n",
    "print_info(B, A)"
   ]
  },
  {
   "cell_type": "code",
   "execution_count": 6,
   "metadata": {},
   "outputs": [
    {
     "name": "stdout",
     "output_type": "stream",
     "text": [
      "A: tensor([[[3, 1]],\n",
      "\n",
      "        [[1, 3]]])\n",
      "B: tensor([[4],\n",
      "        [3]])\n",
      "A 的维度: 3,\t B 的维度: 2\n",
      "A 的元素总数: 4,\t B 的元素总数: 2\n",
      "torch.matmul(A, B) = tensor([[[15]],\n",
      "\n",
      "        [[13]]])\n",
      "torch.matmul(A, B).size() = torch.Size([2, 1, 1])\n"
     ]
    }
   ],
   "source": [
    "# input_d > 2, other_d = 2\n",
    "A = torch.randint(0, 5, size=(2, 1, 2))\n",
    "B = torch.randint(0, 5, size=(2, 1))\n",
    "\n",
    "print_info(A, B)"
   ]
  },
  {
   "cell_type": "code",
   "execution_count": 7,
   "metadata": {},
   "outputs": [
    {
     "name": "stdout",
     "output_type": "stream",
     "text": [
      "A: tensor([[[1, 4]],\n",
      "\n",
      "        [[1, 4]]])\n",
      "B: tensor([4, 1])\n",
      "A 的维度: 3,\t B 的维度: 1\n",
      "A 的元素总数: 4,\t B 的元素总数: 2\n",
      "torch.matmul(A, B) = tensor([[8],\n",
      "        [8]])\n",
      "torch.matmul(A, B).size() = torch.Size([2, 1])\n"
     ]
    }
   ],
   "source": [
    "# input_d > 2, other_d = 1\n",
    "A = torch.randint(0, 5, size=(2, 1, 2))\n",
    "B = torch.randint(0, 5, size=(2, ))\n",
    "\n",
    "print_info(A, B)"
   ]
  },
  {
   "cell_type": "code",
   "execution_count": 8,
   "metadata": {},
   "outputs": [
    {
     "name": "stdout",
     "output_type": "stream",
     "text": [
      "A: tensor([[[[4],\n",
      "          [4]]],\n",
      "\n",
      "\n",
      "        [[[4],\n",
      "          [0]]]])\n",
      "B: tensor([[[1, 2]],\n",
      "\n",
      "        [[3, 0]]])\n",
      "A 的维度: 4,\t B 的维度: 3\n",
      "A 的元素总数: 4,\t B 的元素总数: 4\n",
      "torch.matmul(A, B) = tensor([[[[ 4,  8],\n",
      "          [ 4,  8]],\n",
      "\n",
      "         [[12,  0],\n",
      "          [12,  0]]],\n",
      "\n",
      "\n",
      "        [[[ 4,  8],\n",
      "          [ 0,  0]],\n",
      "\n",
      "         [[12,  0],\n",
      "          [ 0,  0]]]])\n",
      "torch.matmul(A, B).size() = torch.Size([2, 2, 2, 2])\n"
     ]
    }
   ],
   "source": [
    "# input_d > 2, other_d > 2\n",
    "A = torch.randint(0, 5, size=(2, 1, 2, 1))\n",
    "B = torch.randint(0, 5, size=(2, 1, 2))\n",
    "\n",
    "print_info(A, B)"
   ]
  },
  {
   "cell_type": "code",
   "execution_count": 9,
   "metadata": {},
   "outputs": [
    {
     "name": "stdout",
     "output_type": "stream",
     "text": [
      "A: tensor([[[1, 2]],\n",
      "\n",
      "        [[3, 0]]])\n",
      "B: tensor([[[[4],\n",
      "          [4]]],\n",
      "\n",
      "\n",
      "        [[[4],\n",
      "          [0]]]])\n",
      "A 的维度: 3,\t B 的维度: 4\n",
      "A 的元素总数: 4,\t B 的元素总数: 4\n",
      "torch.matmul(A, B) = tensor([[[[12]],\n",
      "\n",
      "         [[12]]],\n",
      "\n",
      "\n",
      "        [[[ 4]],\n",
      "\n",
      "         [[12]]]])\n",
      "torch.matmul(A, B).size() = torch.Size([2, 2, 1, 1])\n"
     ]
    }
   ],
   "source": [
    "print_info(B, A)"
   ]
  }
 ],
 "metadata": {
  "kernelspec": {
   "display_name": "DL",
   "language": "python",
   "name": "python3"
  },
  "language_info": {
   "codemirror_mode": {
    "name": "ipython",
    "version": 3
   },
   "file_extension": ".py",
   "mimetype": "text/x-python",
   "name": "python",
   "nbconvert_exporter": "python",
   "pygments_lexer": "ipython3",
   "version": "3.9.15"
  },
  "orig_nbformat": 4
 },
 "nbformat": 4,
 "nbformat_minor": 2
}
